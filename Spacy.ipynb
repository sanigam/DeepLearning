{
 "cells": [
  {
   "cell_type": "code",
   "execution_count": 2,
   "metadata": {},
   "outputs": [
    {
     "name": "stdout",
     "output_type": "stream",
     "text": [
      "\"Hello\"\n",
      "\"    \"\n",
      "\"World\"\n",
      "\"!\"\n"
     ]
    }
   ],
   "source": [
    "import spacy\n",
    "nlp = spacy.load('en')\n",
    "doc = nlp('Hello     World!')\n",
    "for token in doc:\n",
    "    print('\"' + token.text + '\"')"
   ]
  },
  {
   "cell_type": "code",
   "execution_count": 17,
   "metadata": {},
   "outputs": [
    {
     "name": "stdout",
     "output_type": "stream",
     "text": [
      "Sentiment Score:  0.15000000000000002\n",
      "Sentiment Score:  0.5\n",
      "Sentiment Score:  -0.04999999999999999\n"
     ]
    }
   ],
   "source": [
    "# Textblob and Stanford corenlp\n",
    "from textblob import TextBlob\n",
    "statement = 'The problem was difficult but TAC engineer did a great job'\n",
    "sentiment = TextBlob(statement)\n",
    "print(\"Sentiment Score: \", sentiment.sentiment.polarity)  # Result = .15, Stanford Pos\n",
    " \n",
    "statement = \"I wish that engineer has  done a better job on this case.\"\n",
    "sentiment = TextBlob(statement)\n",
    "print(\"Sentiment Score: \", sentiment.sentiment.polarity)  # # Result = .5  Stanfod Neg\n",
    "\n",
    "statement = \"I am frustrated with kind of service I received on this case\"\n",
    "sentiment = TextBlob(statement)\n",
    "print(\"Sentiment Score: \", sentiment.sentiment.polarity)  # Result = - .0499, Stanford Pos ?"
   ]
  },
  {
   "cell_type": "code",
   "execution_count": 37,
   "metadata": {},
   "outputs": [
    {
     "name": "stdout",
     "output_type": "stream",
     "text": [
      "{'neg': 0.222, 'compound': 0.6187, 'neu': 0.431, 'pos': 0.348}\n",
      "{'neg': 0.0, 'compound': 0.6808, 'neu': 0.588, 'pos': 0.412}\n",
      "{'neg': 0.274, 'compound': -0.5267, 'neu': 0.726, 'pos': 0.0}\n"
     ]
    }
   ],
   "source": [
    "#NLTK\n",
    "from nltk.sentiment.vader import SentimentIntensityAnalyzer\n",
    " \n",
    "sentiment_analyzer = SentimentIntensityAnalyzer()\n",
    "\n",
    "statement = 'The problem was difficult but TAC engineer did a great job'\n",
    "sentiment_analyzer.polarity_scores(statement)\n",
    "print(polarity_scores(statement))\n",
    "#{'neg': 0.222, 'compound': 0.6187, 'neu': 0.431, 'pos': 0.348}\n",
    "\n",
    "statement = \"I wish that engineer has  done a better job on this case.\"\n",
    "sentiment_analyzer.polarity_scores(statement)\n",
    "print(polarity_scores(statement))\n",
    "#{'neg': 0.0, 'compound': 0.6808, 'neu': 0.588, 'pos': 0.412}\n",
    "\n",
    "statement = \"I am frustrated with kind of service I received on this case\"\n",
    "sentiment_analyzer.polarity_scores(statement)\n",
    "print(polarity_scores(statement))\n",
    "#{'neg': 0.274, 'compound': -0.5267, 'neu': 0.726, 'pos': 0.0}\n",
    " "
   ]
  },
  {
   "cell_type": "code",
   "execution_count": null,
   "metadata": {
    "collapsed": true
   },
   "outputs": [],
   "source": []
  }
 ],
 "metadata": {
  "kernelspec": {
   "display_name": "Python 3",
   "language": "python",
   "name": "python3"
  },
  "language_info": {
   "codemirror_mode": {
    "name": "ipython",
    "version": 3
   },
   "file_extension": ".py",
   "mimetype": "text/x-python",
   "name": "python",
   "nbconvert_exporter": "python",
   "pygments_lexer": "ipython3",
   "version": "3.8.3"
  }
 },
 "nbformat": 4,
 "nbformat_minor": 2
}
